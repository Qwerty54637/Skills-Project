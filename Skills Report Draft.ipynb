{
 "cells": [
  {
   "cell_type": "markdown",
   "id": "4fb82709",
   "metadata": {},
   "source": [
    "# Skills Group Project \n",
    "## by Ross Evans (s2179447), Luca Girasoli (), Conor McArthur () and "
   ]
  },
  {
   "cell_type": "markdown",
   "id": "5dd4ffbd",
   "metadata": {},
   "source": [
    "## Project Lab: Polynomial Factor Rings\n",
    "This lab will investigate polynomial factor rings of degree $n$."
   ]
  },
  {
   "cell_type": "code",
   "execution_count": 1,
   "id": "742ebb5c",
   "metadata": {},
   "outputs": [
    {
     "data": {
      "text/html": [
       "<html>\\(\\displaystyle \\left[x^{3}, x^{3} + 1, x^{3} + 2, x^{3} + x, x^{3} + x + 1, x^{3} + x + 2, x^{3} + 2 x, x^{3} + 2 x + 1, x^{3} + 2 x + 2, x^{3} + x^{2}, x^{3} + x^{2} + 1, x^{3} + x^{2} + 2, x^{3} + x^{2} + x, x^{3} + x^{2} + x + 1, x^{3} + x^{2} + x + 2, x^{3} + x^{2} + 2 x, x^{3} + x^{2} + 2 x + 1, x^{3} + x^{2} + 2 x + 2, x^{3} + 2 x^{2}, x^{3} + 2 x^{2} + 1, x^{3} + 2 x^{2} + 2, x^{3} + 2 x^{2} + x, x^{3} + 2 x^{2} + x + 1, x^{3} + 2 x^{2} + x + 2, x^{3} + 2 x^{2} + 2 x, x^{3} + 2 x^{2} + 2 x + 1, x^{3} + 2 x^{2} + 2 x + 2\\right]\\)</html>"
      ],
      "text/latex": [
       "$\\displaystyle \\left[x^{3}, x^{3} + 1, x^{3} + 2, x^{3} + x, x^{3} + x + 1, x^{3} + x + 2, x^{3} + 2 x, x^{3} + 2 x + 1, x^{3} + 2 x + 2, x^{3} + x^{2}, x^{3} + x^{2} + 1, x^{3} + x^{2} + 2, x^{3} + x^{2} + x, x^{3} + x^{2} + x + 1, x^{3} + x^{2} + x + 2, x^{3} + x^{2} + 2 x, x^{3} + x^{2} + 2 x + 1, x^{3} + x^{2} + 2 x + 2, x^{3} + 2 x^{2}, x^{3} + 2 x^{2} + 1, x^{3} + 2 x^{2} + 2, x^{3} + 2 x^{2} + x, x^{3} + 2 x^{2} + x + 1, x^{3} + 2 x^{2} + x + 2, x^{3} + 2 x^{2} + 2 x, x^{3} + 2 x^{2} + 2 x + 1, x^{3} + 2 x^{2} + 2 x + 2\\right]$"
      ],
      "text/plain": [
       "[x^3,\n",
       " x^3 + 1,\n",
       " x^3 + 2,\n",
       " x^3 + x,\n",
       " x^3 + x + 1,\n",
       " x^3 + x + 2,\n",
       " x^3 + 2*x,\n",
       " x^3 + 2*x + 1,\n",
       " x^3 + 2*x + 2,\n",
       " x^3 + x^2,\n",
       " x^3 + x^2 + 1,\n",
       " x^3 + x^2 + 2,\n",
       " x^3 + x^2 + x,\n",
       " x^3 + x^2 + x + 1,\n",
       " x^3 + x^2 + x + 2,\n",
       " x^3 + x^2 + 2*x,\n",
       " x^3 + x^2 + 2*x + 1,\n",
       " x^3 + x^2 + 2*x + 2,\n",
       " x^3 + 2*x^2,\n",
       " x^3 + 2*x^2 + 1,\n",
       " x^3 + 2*x^2 + 2,\n",
       " x^3 + 2*x^2 + x,\n",
       " x^3 + 2*x^2 + x + 1,\n",
       " x^3 + 2*x^2 + x + 2,\n",
       " x^3 + 2*x^2 + 2*x,\n",
       " x^3 + 2*x^2 + 2*x + 1,\n",
       " x^3 + 2*x^2 + 2*x + 2]"
      ]
     },
     "metadata": {},
     "output_type": "display_data"
    },
    {
     "data": {
      "text/html": [
       "<html>\\(\\displaystyle \\left[0, 1, 2, x, x + 1, x + 2, 2 x, 2 x + 1, 2 x + 2, x^{2}, x^{2} + 1, x^{2} + 2, x^{2} + x, x^{2} + x + 1, x^{2} + x + 2, x^{2} + 2 x, x^{2} + 2 x + 1, x^{2} + 2 x + 2, 2 x^{2}, 2 x^{2} + 1, 2 x^{2} + 2, 2 x^{2} + x, 2 x^{2} + x + 1, 2 x^{2} + x + 2, 2 x^{2} + 2 x, 2 x^{2} + 2 x + 1, 2 x^{2} + 2 x + 2\\right]\\)</html>"
      ],
      "text/latex": [
       "$\\displaystyle \\left[0, 1, 2, x, x + 1, x + 2, 2 x, 2 x + 1, 2 x + 2, x^{2}, x^{2} + 1, x^{2} + 2, x^{2} + x, x^{2} + x + 1, x^{2} + x + 2, x^{2} + 2 x, x^{2} + 2 x + 1, x^{2} + 2 x + 2, 2 x^{2}, 2 x^{2} + 1, 2 x^{2} + 2, 2 x^{2} + x, 2 x^{2} + x + 1, 2 x^{2} + x + 2, 2 x^{2} + 2 x, 2 x^{2} + 2 x + 1, 2 x^{2} + 2 x + 2\\right]$"
      ],
      "text/plain": [
       "[0,\n",
       " 1,\n",
       " 2,\n",
       " x,\n",
       " x + 1,\n",
       " x + 2,\n",
       " 2*x,\n",
       " 2*x + 1,\n",
       " 2*x + 2,\n",
       " x^2,\n",
       " x^2 + 1,\n",
       " x^2 + 2,\n",
       " x^2 + x,\n",
       " x^2 + x + 1,\n",
       " x^2 + x + 2,\n",
       " x^2 + 2*x,\n",
       " x^2 + 2*x + 1,\n",
       " x^2 + 2*x + 2,\n",
       " 2*x^2,\n",
       " 2*x^2 + 1,\n",
       " 2*x^2 + 2,\n",
       " 2*x^2 + x,\n",
       " 2*x^2 + x + 1,\n",
       " 2*x^2 + x + 2,\n",
       " 2*x^2 + 2*x,\n",
       " 2*x^2 + 2*x + 1,\n",
       " 2*x^2 + 2*x + 2]"
      ]
     },
     "metadata": {},
     "output_type": "display_data"
    },
    {
     "name": "stdout",
     "output_type": "stream",
     "text": [
      "[x^3 + 2*x + 1, x^3 + 2*x + 2, x^3 + x^2 + 2, x^3 + x^2 + x + 2, x^3 + x^2 + 2*x + 1, x^3 + 2*x^2 + 1, x^3 + 2*x^2 + x + 1, x^3 + 2*x^2 + 2*x + 2]\n",
      "8\n"
     ]
    }
   ],
   "source": [
    "# DONT EDIT THIS STUFF JUST USE TO COPY AND PASTE \n",
    "a = mod(0,3)\n",
    "b = mod(1,3)\n",
    "c = mod(2,3)\n",
    "nums = [a,b,c]\n",
    "x = var(\"x\")\n",
    "monics = []\n",
    "lowers = []\n",
    "R = GF(3)[x]\n",
    "r = R.gens()[0]\n",
    "for i in nums:\n",
    "    for j in nums:\n",
    "            for k in nums:\n",
    "                monics += [ j * r + k + i * r^2 + r^3 ]\n",
    "                lowers += [i* r^2 + j * r + k]\n",
    "pretty_print(monics)\n",
    "pretty_print(lowers)\n",
    "prods = set()\n",
    "for x0 in lowers:\n",
    "     for x1 in lowers:\n",
    "            prods.add(x0 * x1)\n",
    "prods\n",
    "non = [m for m in monics if not(m in prods)]\n",
    "print(non)\n",
    "print(len(non))"
   ]
  },
  {
   "cell_type": "code",
   "execution_count": 2,
   "id": "63476d4a",
   "metadata": {},
   "outputs": [
    {
     "data": {
      "text/html": [
       "<html>\\(\\displaystyle \\newcommand{\\Bold}[1]{\\mathbf{#1}}\\left(x^{3} + 2 x + 1\\right)\\Bold{F}_{3}[x]\\)</html>"
      ],
      "text/latex": [
       "$\\displaystyle \\newcommand{\\Bold}[1]{\\mathbf{#1}}\\left(x^{3} + 2 x + 1\\right)\\Bold{F}_{3}[x]$"
      ],
      "text/plain": [
       "Principal ideal (x^3 + 2*x + 1) of Univariate Polynomial Ring in x over Finite Field of size 3"
      ]
     },
     "metadata": {},
     "output_type": "display_data"
    },
    {
     "name": "stdout",
     "output_type": "stream",
     "text": [
      "Univariate Quotient Polynomial Ring in xbar over Finite Field of size 3 with modulus x^3 + 2*x + 1\n",
      "27\n"
     ]
    },
    {
     "data": {
      "text/plain": [
       "[1,\n",
       " xbar,\n",
       " xbar^2,\n",
       " xbar + 2,\n",
       " xbar^2 + 2*xbar,\n",
       " 2*xbar^2 + xbar + 2,\n",
       " xbar^2 + xbar + 1,\n",
       " xbar^2 + 2*xbar + 2,\n",
       " 2*xbar^2 + 2,\n",
       " xbar + 1,\n",
       " xbar^2 + xbar,\n",
       " xbar^2 + xbar + 2,\n",
       " xbar^2 + 2,\n",
       " 2,\n",
       " 2*xbar,\n",
       " 2*xbar^2,\n",
       " 2*xbar + 1,\n",
       " 2*xbar^2 + xbar,\n",
       " xbar^2 + 2*xbar + 1,\n",
       " 2*xbar^2 + 2*xbar + 2,\n",
       " 2*xbar^2 + xbar + 1,\n",
       " xbar^2 + 1,\n",
       " 2*xbar + 2,\n",
       " 2*xbar^2 + 2*xbar,\n",
       " 2*xbar^2 + 2*xbar + 1,\n",
       " 2*xbar^2 + 1,\n",
       " 1]"
      ]
     },
     "execution_count": 2,
     "metadata": {},
     "output_type": "execute_result"
    }
   ],
   "source": [
    "# DONT EDIT THIS STUFF JUST USE TO COPY AND PASTE \n",
    "I = R.ideal(non[0])\n",
    "pretty_print(I)\n",
    "Q = R.quotient(I)\n",
    "print(Q)\n",
    "print(len(Q))\n",
    "# units = [q for q in Q if q.is_unit()]\n",
    "# print(len(units))\n",
    "# pretty_print(units)\n",
    "xb = Q.gen()\n",
    "hello = [xb^i for i in range(len(Q))]\n",
    "hello"
   ]
  },
  {
   "cell_type": "code",
   "execution_count": 3,
   "id": "7b5ce4eb",
   "metadata": {},
   "outputs": [
    {
     "name": "stdout",
     "output_type": "stream",
     "text": [
      "For x^3 + 2*x + 1\n",
      "Q has size: 27\n",
      "Has 26 units.\n",
      "[1, xbar, xbar^2, xbar + 2, xbar^2 + 2*xbar, 2*xbar^2 + xbar + 2, xbar^2 + xbar + 1, xbar^2 + 2*xbar + 2, 2*xbar^2 + 2, xbar + 1, xbar^2 + xbar, xbar^2 + xbar + 2, xbar^2 + 2, 2, 2*xbar, 2*xbar^2, 2*xbar + 1, 2*xbar^2 + xbar, xbar^2 + 2*xbar + 1, 2*xbar^2 + 2*xbar + 2, 2*xbar^2 + xbar + 1, xbar^2 + 1, 2*xbar + 2, 2*xbar^2 + 2*xbar, 2*xbar^2 + 2*xbar + 1, 2*xbar^2 + 1, 1]\n",
      "2\n",
      "For x^3 + 2*x + 2\n",
      "Q has size: 27\n",
      "Has 26 units.\n",
      "[1, xbar, xbar^2, xbar + 1, xbar^2 + xbar, xbar^2 + xbar + 1, xbar^2 + 2*xbar + 1, 2*xbar^2 + 2*xbar + 1, 2*xbar^2 + 2, xbar + 2, xbar^2 + 2*xbar, 2*xbar^2 + xbar + 1, xbar^2 + 2, 1, xbar, xbar^2, xbar + 1, xbar^2 + xbar, xbar^2 + xbar + 1, xbar^2 + 2*xbar + 1, 2*xbar^2 + 2*xbar + 1, 2*xbar^2 + 2, xbar + 2, xbar^2 + 2*xbar, 2*xbar^2 + xbar + 1, xbar^2 + 2, 1]\n",
      "1\n",
      "For x^3 + x^2 + 2\n",
      "Q has size: 27\n",
      "Has 26 units.\n",
      "[1, xbar, xbar^2, 2*xbar^2 + 1, xbar^2 + xbar + 2, 2*xbar + 1, 2*xbar^2 + xbar, 2*xbar^2 + 2, xbar^2 + 2*xbar + 2, xbar^2 + 2*xbar + 1, xbar^2 + xbar + 1, xbar + 1, xbar^2 + xbar, 1, xbar, xbar^2, 2*xbar^2 + 1, xbar^2 + xbar + 2, 2*xbar + 1, 2*xbar^2 + xbar, 2*xbar^2 + 2, xbar^2 + 2*xbar + 2, xbar^2 + 2*xbar + 1, xbar^2 + xbar + 1, xbar + 1, xbar^2 + xbar, 1]\n",
      "1\n",
      "For x^3 + x^2 + x + 2\n",
      "Q has size: 27\n",
      "Has 26 units.\n",
      "[1, xbar, xbar^2, 2*xbar^2 + 2*xbar + 1, 2*xbar + 2, 2*xbar^2 + 2*xbar, xbar + 2, xbar^2 + 2*xbar, xbar^2 + 2*xbar + 1, xbar^2 + 1, 2*xbar^2 + 1, xbar^2 + 2*xbar + 2, xbar^2 + xbar + 1, 1, xbar, xbar^2, 2*xbar^2 + 2*xbar + 1, 2*xbar + 2, 2*xbar^2 + 2*xbar, xbar + 2, xbar^2 + 2*xbar, xbar^2 + 2*xbar + 1, xbar^2 + 1, 2*xbar^2 + 1, xbar^2 + 2*xbar + 2, xbar^2 + xbar + 1, 1]\n",
      "1\n",
      "For x^3 + x^2 + 2*x + 1\n",
      "Q has size: 27\n",
      "Has 26 units.\n",
      "[1, xbar, xbar^2, 2*xbar^2 + xbar + 2, 2*xbar^2 + xbar + 1, 2*xbar^2 + 1, xbar^2 + 1, 2*xbar^2 + 2*xbar + 2, xbar + 1, xbar^2 + xbar, xbar + 2, xbar^2 + 2*xbar, xbar^2 + xbar + 2, 2, 2*xbar, 2*xbar^2, xbar^2 + 2*xbar + 1, xbar^2 + 2*xbar + 2, xbar^2 + 2, 2*xbar^2 + 2, xbar^2 + xbar + 1, 2*xbar + 2, 2*xbar^2 + 2*xbar, 2*xbar + 1, 2*xbar^2 + xbar, 2*xbar^2 + 2*xbar + 1, 1]\n",
      "2\n",
      "For x^3 + 2*x^2 + 1\n",
      "Q has size: 27\n",
      "Has 26 units.\n",
      "[1, xbar, xbar^2, xbar^2 + 2, xbar^2 + 2*xbar + 2, 2*xbar + 2, 2*xbar^2 + 2*xbar, xbar^2 + 1, xbar^2 + xbar + 2, 2*xbar^2 + 2*xbar + 2, xbar^2 + 2*xbar + 1, xbar + 2, xbar^2 + 2*xbar, 2, 2*xbar, 2*xbar^2, 2*xbar^2 + 1, 2*xbar^2 + xbar + 1, xbar + 1, xbar^2 + xbar, 2*xbar^2 + 2, 2*xbar^2 + 2*xbar + 1, xbar^2 + xbar + 1, 2*xbar^2 + xbar + 2, 2*xbar + 1, 2*xbar^2 + xbar, 1]\n",
      "2\n",
      "For x^3 + 2*x^2 + x + 1\n",
      "Q has size: 27\n",
      "Has 26 units.\n",
      "[1, xbar, xbar^2, xbar^2 + 2*xbar + 2, xbar + 2, xbar^2 + 2*xbar, 2*xbar + 2, 2*xbar^2 + 2*xbar, xbar^2 + xbar + 1, 2*xbar^2 + 2, 2*xbar^2 + 1, 2*xbar^2 + 2*xbar + 1, xbar^2 + 2*xbar + 1, 2, 2*xbar, 2*xbar^2, 2*xbar^2 + xbar + 1, 2*xbar + 1, 2*xbar^2 + xbar, xbar + 1, xbar^2 + xbar, 2*xbar^2 + 2*xbar + 2, xbar^2 + 1, xbar^2 + 2, xbar^2 + xbar + 2, 2*xbar^2 + xbar + 2, 1]\n",
      "2\n",
      "For x^3 + 2*x^2 + 2*x + 2\n",
      "Q has size: 27\n",
      "Has 26 units.\n",
      "[1, xbar, xbar^2, xbar^2 + xbar + 1, 2*xbar^2 + 2*xbar + 1, xbar^2 + 2, xbar^2 + 1, xbar^2 + 2*xbar + 1, 2*xbar + 1, 2*xbar^2 + xbar, 2*xbar + 2, 2*xbar^2 + 2*xbar, xbar^2 + 2*xbar + 2, 1, xbar, xbar^2, xbar^2 + xbar + 1, 2*xbar^2 + 2*xbar + 1, xbar^2 + 2, xbar^2 + 1, xbar^2 + 2*xbar + 1, 2*xbar + 1, 2*xbar^2 + xbar, 2*xbar + 2, 2*xbar^2 + 2*xbar, xbar^2 + 2*xbar + 2, 1]\n",
      "1\n"
     ]
    }
   ],
   "source": [
    "# DONT EDIT THIS STUFF JUST USE TO COPY AND PASTE \n",
    "all_units = []\n",
    "for n in non:\n",
    "    print(\"For {}\".format(n))\n",
    "    I = R.ideal(n)\n",
    "    Q = R.quotient(I)\n",
    "    print(\"Q has size: {}\".format(len(Q)))\n",
    "    units = [q for q in Q if q.is_unit()]\n",
    "    all_units += [units]\n",
    "    print(\"Has {} units.\".format(len(units)))\n",
    "    gen = Q.gen()\n",
    "    gens = [gen^i for i in range(len(Q))]\n",
    "    print(gens)\n",
    "    print(gens[13])"
   ]
  },
  {
   "cell_type": "code",
   "execution_count": 6,
   "id": "58bdca77",
   "metadata": {},
   "outputs": [
    {
     "data": {
      "text/plain": [
       "[[1, 2, 0, 1],\n",
       " [2, 2, 0, 1],\n",
       " [2, 0, 1, 1],\n",
       " [2, 1, 1, 1],\n",
       " [1, 2, 1, 1],\n",
       " [1, 0, 2, 1],\n",
       " [1, 1, 2, 1],\n",
       " [2, 2, 2, 1]]"
      ]
     },
     "execution_count": 6,
     "metadata": {},
     "output_type": "execute_result"
    }
   ],
   "source": [
    "# DONT EDIT THIS STUFF JUST USE TO COPY AND PASTE \n",
    "long = []\n",
    "for n in non:\n",
    "    short = []\n",
    "    for x in n:\n",
    "        short += [x]\n",
    "    long += [short]\n",
    "long"
   ]
  },
  {
   "cell_type": "code",
   "execution_count": 4,
   "id": "1c3f1ce4",
   "metadata": {},
   "outputs": [
    {
     "name": "stdout",
     "output_type": "stream",
     "text": [
      "x^3 + x^2 + 2\n"
     ]
    },
    {
     "data": {
      "text/html": [
       "<html>\\(\\displaystyle \\newcommand{\\Bold}[1]{\\mathbf{#1}}\\left(x^{3} + x^{2} + 2\\right)\\Bold{F}_{3}[x]\\)</html>"
      ],
      "text/latex": [
       "$\\displaystyle \\newcommand{\\Bold}[1]{\\mathbf{#1}}\\left(x^{3} + x^{2} + 2\\right)\\Bold{F}_{3}[x]$"
      ],
      "text/plain": [
       "Principal ideal (x^3 + x^2 + 2) of Univariate Polynomial Ring in x over Finite Field of size 3"
      ]
     },
     "metadata": {},
     "output_type": "display_data"
    },
    {
     "name": "stdout",
     "output_type": "stream",
     "text": [
      "Q has size: 27\n",
      "Has 26 units.\n",
      "1 has inverse 1\n",
      "2 has inverse 2\n",
      "xbar has inverse xbar^2 + xbar\n",
      "xbar + 1 has inverse xbar^2\n",
      "xbar + 2 has inverse 2*xbar^2 + xbar + 1\n",
      "2*xbar has inverse 2*xbar^2 + 2*xbar\n",
      "2*xbar + 1 has inverse xbar^2 + 2*xbar + 2\n",
      "2*xbar + 2 has inverse 2*xbar^2\n",
      "xbar^2 + 1 has inverse xbar^2 + 2*xbar\n",
      "xbar^2 + 2 has inverse 2*xbar^2 + 2*xbar + 2\n",
      "xbar^2 + xbar + 1 has inverse 2*xbar^2 + 1\n",
      "xbar^2 + xbar + 2 has inverse xbar^2 + 2*xbar + 1\n",
      "2*xbar^2 + 2 has inverse 2*xbar^2 + xbar\n",
      "2*xbar^2 + xbar + 2 has inverse 2*xbar^2 + 2*xbar + 1\n"
     ]
    }
   ],
   "source": [
    "# DONT EDIT THIS STUFF JUST USE TO COPY AND PASTE \n",
    "P = non[2]\n",
    "print(P)\n",
    "pretty_print(R.ideal(P))\n",
    "Q = R.quotient(R.ideal(P))\n",
    "print(\"Q has size: {}\".format(len(Q)))\n",
    "units = [q for q in Q if q.is_unit()]\n",
    "print(\"Has {} units.\".format(len(units)))\n",
    "gen = Q.gen()\n",
    "gens = [gen^i for i in range(len(Q))]\n",
    "gens\n",
    "used = []\n",
    "for q in units:\n",
    "    if 1/q in used:\n",
    "        continue\n",
    "    print(\"{} has inverse {}\".format(q,1/q))\n",
    "    used += [q]\n"
   ]
  },
  {
   "cell_type": "code",
   "execution_count": 5,
   "id": "f9f412f0",
   "metadata": {},
   "outputs": [
    {
     "name": "stdout",
     "output_type": "stream",
     "text": [
      "1\n",
      "xbar\n",
      "xbar^2\n",
      "2*xbar^2 + 1\n",
      "xbar^2 + xbar + 2\n",
      "2*xbar + 1\n",
      "2*xbar^2 + xbar\n",
      "2*xbar^2 + 2\n",
      "xbar^2 + 2*xbar + 2\n",
      "xbar^2 + 2*xbar + 1\n",
      "xbar^2 + xbar + 1\n",
      "xbar + 1\n",
      "xbar^2 + xbar\n",
      "1\n",
      "xbar\n"
     ]
    }
   ],
   "source": [
    "# DONT EDIT THIS STUFF JUST USE TO COPY AND PASTE \n",
    "ross = Q.gen()\n",
    "for i in range(15):\n",
    "    print(ross^i)"
   ]
  }
 ],
 "metadata": {
  "kernelspec": {
   "display_name": "SageMath 9.7",
   "language": "sage",
   "name": "sagemath"
  },
  "language_info": {
   "codemirror_mode": {
    "name": "ipython",
    "version": 3
   },
   "file_extension": ".py",
   "mimetype": "text/x-python",
   "name": "python",
   "nbconvert_exporter": "python",
   "pygments_lexer": "ipython3",
   "version": "3.10.5"
  }
 },
 "nbformat": 4,
 "nbformat_minor": 5
}
